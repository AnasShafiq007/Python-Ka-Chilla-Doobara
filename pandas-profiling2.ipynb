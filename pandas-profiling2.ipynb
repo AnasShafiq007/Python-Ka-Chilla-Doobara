{
 "cells": [
  {
   "cell_type": "code",
   "execution_count": 1,
   "metadata": {},
   "outputs": [],
   "source": [
    "# importing packages\n",
    "import pandas as pd\n",
    "import pandas_profiling as pp"
   ]
  },
  {
   "cell_type": "code",
   "execution_count": 2,
   "metadata": {},
   "outputs": [],
   "source": [
    "# dictionary of data\n",
    "dct = {'ID': {0: 23, 1: 43, 2: 12, 3: 13,\n",
    "\t\t\t4: 67, 5: 89, 6: 90, 7: 56,\n",
    "\t\t\t8: 34},\n",
    "\t'Name': {0: 'Ram', 1: 'Deep', 2: 'Yash',\n",
    "\t\t\t\t3: 'Aman', 4: 'Arjun', 5: 'Aditya',\n",
    "\t\t\t\t6: 'Divya', 7: 'Chalsea',\n",
    "\t\t\t\t8: 'Akash' },\n",
    "\t'Marks': {0: 89, 1: 97, 2: 45, 3: 78,\n",
    "\t\t\t\t4: 56, 5: 76, 6: 100, 7: 87,\n",
    "\t\t\t\t8: 81},\n",
    "\t'Grade': {0: 'B', 1: 'A', 2: 'F', 3: 'C',\n",
    "\t\t\t\t4: 'E', 5: 'C', 6: 'A', 7: 'B',\n",
    "\t\t\t\t8: 'B'}\n",
    "\t}"
   ]
  },
  {
   "cell_type": "code",
   "execution_count": 3,
   "metadata": {},
   "outputs": [
    {
     "name": "stdout",
     "output_type": "stream",
     "text": [
      "   ID     Name  Marks Grade\n",
      "0  23      Ram     89     B\n",
      "1  43     Deep     97     A\n",
      "2  12     Yash     45     F\n",
      "3  13     Aman     78     C\n",
      "4  67    Arjun     56     E\n",
      "5  89   Aditya     76     C\n",
      "6  90    Divya    100     A\n",
      "7  56  Chalsea     87     B\n",
      "8  34    Akash     81     B\n"
     ]
    }
   ],
   "source": [
    "# forming dataframe and printing\n",
    "data = pd.DataFrame(dct)\n",
    "print(data)\n"
   ]
  },
  {
   "cell_type": "code",
   "execution_count": 4,
   "metadata": {},
   "outputs": [
    {
     "name": "stderr",
     "output_type": "stream",
     "text": [
      "Summarize dataset:   0%|          | 0/5 [00:00<?, ?it/s]c:\\Users\\hafiz\\miniconda3\\lib\\site-packages\\multimethod\\__init__.py:315: FutureWarning: iteritems is deprecated and will be removed in a future version. Use .items instead.\n",
      "  return func(*args, **kwargs)\n",
      "Summarize dataset:  38%|███▊      | 6/16 [00:00<00:00, 11.09it/s, Calculate spearman correlation]c:\\Users\\hafiz\\miniconda3\\lib\\site-packages\\multimethod\\__init__.py:315: FutureWarning: The default value of numeric_only in DataFrame.corr is deprecated. In a future version, it will default to False. Select only valid columns or specify the value of numeric_only to silence this warning.\n",
      "  return func(*args, **kwargs)\n",
      "Summarize dataset: 100%|██████████| 22/22 [00:07<00:00,  2.81it/s, Completed]                    \n",
      "Generate report structure: 100%|██████████| 1/1 [00:02<00:00,  2.64s/it]\n",
      "Render HTML: 100%|██████████| 1/1 [00:00<00:00,  1.60it/s]\n",
      "Export report to file: 100%|██████████| 1/1 [00:00<00:00, 125.09it/s]\n"
     ]
    }
   ],
   "source": [
    "# forming ProfileReport and save\n",
    "# as output.html file\n",
    "profile = pp.ProfileReport(data)\n",
    "profile.to_file(\"output.html\")"
   ]
  },
  {
   "cell_type": "code",
   "execution_count": null,
   "metadata": {},
   "outputs": [],
   "source": []
  }
 ],
 "metadata": {
  "kernelspec": {
   "display_name": "Python 3.9.12 ('base')",
   "language": "python",
   "name": "python3"
  },
  "language_info": {
   "codemirror_mode": {
    "name": "ipython",
    "version": 3
   },
   "file_extension": ".py",
   "mimetype": "text/x-python",
   "name": "python",
   "nbconvert_exporter": "python",
   "pygments_lexer": "ipython3",
   "version": "3.9.12"
  },
  "orig_nbformat": 4,
  "vscode": {
   "interpreter": {
    "hash": "ea446ca99995e3564b8204e78678b48c490eb7c3d14c4f8b6cf82a86ad83367c"
   }
  }
 },
 "nbformat": 4,
 "nbformat_minor": 2
}
