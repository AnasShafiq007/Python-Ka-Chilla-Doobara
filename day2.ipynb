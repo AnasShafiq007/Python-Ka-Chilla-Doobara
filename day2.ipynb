{
 "cells": [
  {
   "cell_type": "markdown",
   "metadata": {},
   "source": [
    "## This code is a practice session with Ammar\n",
    "We are practicing togather"
   ]
  },
  {
   "cell_type": "code",
   "execution_count": null,
   "metadata": {},
   "outputs": [],
   "source": [
    "# string\n",
    "\"Anas\"\n",
    "'Anas'\n",
    "'''Anas'''\n",
    "\"\"\"Anas\"\"\"\n",
    "\"12345\"\n",
    "\"Anas123\"\n",
    "\n",
    "# Numaric \n",
    "[ # int\n",
    "123\n",
    "256\n",
    "\n",
    "# float\n",
    "123.0\n",
    "123.5\n",
    "\n",
    "# boolean\n",
    "True\n",
    "False\n",
    "\n",
    "# complex\n",
    "1+2j   # numbers with alphabets\n",
    "\n",
    "]\n",
    "\n",
    "# dictionary\n",
    "          #dict ki key hmesha string hoti hy\n",
    "{'Anas' : 5.1, \"Height\" : 5.7, \"Weight\" : 60}\n",
    "\n",
    "# tuple\n",
    "(1,2,5,9)\n",
    "\n",
    "# set\n",
    "{1,2,5,9,6}\n"
   ]
  }
 ],
 "metadata": {
  "kernelspec": {
   "display_name": "Python 3.10.7 64-bit",
   "language": "python",
   "name": "python3"
  },
  "language_info": {
   "name": "python",
   "version": "3.10.7"
  },
  "orig_nbformat": 4,
  "vscode": {
   "interpreter": {
    "hash": "0a981ecdf31049cd0ff3023691d914b13b44a3961bc6ca84b71a78109924de50"
   }
  }
 },
 "nbformat": 4,
 "nbformat_minor": 2
}
