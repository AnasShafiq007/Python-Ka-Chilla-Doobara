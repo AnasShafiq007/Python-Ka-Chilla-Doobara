{
 "cells": [
  {
   "cell_type": "markdown",
   "metadata": {},
   "source": [
    "# <b><u> Assignment ML </u></b>"
   ]
  },
  {
   "cell_type": "markdown",
   "metadata": {},
   "source": [
    "### Types of Machine Learning"
   ]
  },
  {
   "cell_type": "markdown",
   "metadata": {},
   "source": [
    "1- Supervised Learning</br>\n",
    "2- Un-supervised Learning</br>\n",
    "3- semi-supervised Learning</br>\n",
    "4- Reinforcement Learning"
   ]
  },
  {
   "cell_type": "code",
   "execution_count": null,
   "metadata": {},
   "outputs": [],
   "source": []
  }
 ],
 "metadata": {
  "kernelspec": {
   "display_name": "Python 3.9.12 ('base')",
   "language": "python",
   "name": "python3"
  },
  "language_info": {
   "name": "python",
   "version": "3.9.12"
  },
  "orig_nbformat": 4,
  "vscode": {
   "interpreter": {
    "hash": "ec1d60a231ec898e21d39859d5e3e1eb4b8f1c8805fe032f72a37229003e130a"
   }
  }
 },
 "nbformat": 4,
 "nbformat_minor": 2
}
